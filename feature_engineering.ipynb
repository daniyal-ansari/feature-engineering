{
  "nbformat": 4,
  "nbformat_minor": 0,
  "metadata": {
    "colab": {
      "provenance": [],
      "toc_visible": true
    },
    "kernelspec": {
      "name": "python3",
      "display_name": "Python 3"
    },
    "language_info": {
      "name": "python"
    }
  },
  "cells": [
    {
      "cell_type": "code",
      "execution_count": null,
      "metadata": {
        "id": "kz2NhP4GCxay"
      },
      "outputs": [],
      "source": [
        "import numpy as np\n",
        "import pandas as pd\n",
        "import matplotlib.pyplot as plt\n",
        "import seaborn  as sns"
      ]
    },
    {
      "cell_type": "code",
      "source": [
        "df = pd.read_table('/content/Q3_fruit_data_with_colors.txt')\n",
        "df[:10]"
      ],
      "metadata": {
        "colab": {
          "base_uri": "https://localhost:8080/",
          "height": 363
        },
        "id": "UODufkhbH7yF",
        "outputId": "e4f78b2f-4299-4e21-f2d6-d1d3ebb66331"
      },
      "execution_count": null,
      "outputs": [
        {
          "output_type": "execute_result",
          "data": {
            "text/plain": [
              "   fruit_label fruit_name fruit_subtype  mass  width  height  color_score\n",
              "0            1      apple  granny_smith   192    8.4     7.3         0.55\n",
              "1            1      apple  granny_smith   180    8.0     6.8         0.59\n",
              "2            1      apple  granny_smith   176    7.4     7.2         0.60\n",
              "3            2   mandarin      mandarin    86    6.2     4.7         0.80\n",
              "4            2   mandarin      mandarin    84    6.0     4.6         0.79\n",
              "5            2   mandarin      mandarin    80    5.8     4.3         0.77\n",
              "6            2   mandarin      mandarin    80    5.9     4.3         0.81\n",
              "7            2   mandarin      mandarin    76    5.8     4.0         0.81\n",
              "8            1      apple      braeburn   178    7.1     7.8         0.92\n",
              "9            1      apple      braeburn   172    7.4     7.0         0.89"
            ],
            "text/html": [
              "\n",
              "  <div id=\"df-07d1a902-0c95-475d-b8f0-d05a0e5c303f\" class=\"colab-df-container\">\n",
              "    <div>\n",
              "<style scoped>\n",
              "    .dataframe tbody tr th:only-of-type {\n",
              "        vertical-align: middle;\n",
              "    }\n",
              "\n",
              "    .dataframe tbody tr th {\n",
              "        vertical-align: top;\n",
              "    }\n",
              "\n",
              "    .dataframe thead th {\n",
              "        text-align: right;\n",
              "    }\n",
              "</style>\n",
              "<table border=\"1\" class=\"dataframe\">\n",
              "  <thead>\n",
              "    <tr style=\"text-align: right;\">\n",
              "      <th></th>\n",
              "      <th>fruit_label</th>\n",
              "      <th>fruit_name</th>\n",
              "      <th>fruit_subtype</th>\n",
              "      <th>mass</th>\n",
              "      <th>width</th>\n",
              "      <th>height</th>\n",
              "      <th>color_score</th>\n",
              "    </tr>\n",
              "  </thead>\n",
              "  <tbody>\n",
              "    <tr>\n",
              "      <th>0</th>\n",
              "      <td>1</td>\n",
              "      <td>apple</td>\n",
              "      <td>granny_smith</td>\n",
              "      <td>192</td>\n",
              "      <td>8.4</td>\n",
              "      <td>7.3</td>\n",
              "      <td>0.55</td>\n",
              "    </tr>\n",
              "    <tr>\n",
              "      <th>1</th>\n",
              "      <td>1</td>\n",
              "      <td>apple</td>\n",
              "      <td>granny_smith</td>\n",
              "      <td>180</td>\n",
              "      <td>8.0</td>\n",
              "      <td>6.8</td>\n",
              "      <td>0.59</td>\n",
              "    </tr>\n",
              "    <tr>\n",
              "      <th>2</th>\n",
              "      <td>1</td>\n",
              "      <td>apple</td>\n",
              "      <td>granny_smith</td>\n",
              "      <td>176</td>\n",
              "      <td>7.4</td>\n",
              "      <td>7.2</td>\n",
              "      <td>0.60</td>\n",
              "    </tr>\n",
              "    <tr>\n",
              "      <th>3</th>\n",
              "      <td>2</td>\n",
              "      <td>mandarin</td>\n",
              "      <td>mandarin</td>\n",
              "      <td>86</td>\n",
              "      <td>6.2</td>\n",
              "      <td>4.7</td>\n",
              "      <td>0.80</td>\n",
              "    </tr>\n",
              "    <tr>\n",
              "      <th>4</th>\n",
              "      <td>2</td>\n",
              "      <td>mandarin</td>\n",
              "      <td>mandarin</td>\n",
              "      <td>84</td>\n",
              "      <td>6.0</td>\n",
              "      <td>4.6</td>\n",
              "      <td>0.79</td>\n",
              "    </tr>\n",
              "    <tr>\n",
              "      <th>5</th>\n",
              "      <td>2</td>\n",
              "      <td>mandarin</td>\n",
              "      <td>mandarin</td>\n",
              "      <td>80</td>\n",
              "      <td>5.8</td>\n",
              "      <td>4.3</td>\n",
              "      <td>0.77</td>\n",
              "    </tr>\n",
              "    <tr>\n",
              "      <th>6</th>\n",
              "      <td>2</td>\n",
              "      <td>mandarin</td>\n",
              "      <td>mandarin</td>\n",
              "      <td>80</td>\n",
              "      <td>5.9</td>\n",
              "      <td>4.3</td>\n",
              "      <td>0.81</td>\n",
              "    </tr>\n",
              "    <tr>\n",
              "      <th>7</th>\n",
              "      <td>2</td>\n",
              "      <td>mandarin</td>\n",
              "      <td>mandarin</td>\n",
              "      <td>76</td>\n",
              "      <td>5.8</td>\n",
              "      <td>4.0</td>\n",
              "      <td>0.81</td>\n",
              "    </tr>\n",
              "    <tr>\n",
              "      <th>8</th>\n",
              "      <td>1</td>\n",
              "      <td>apple</td>\n",
              "      <td>braeburn</td>\n",
              "      <td>178</td>\n",
              "      <td>7.1</td>\n",
              "      <td>7.8</td>\n",
              "      <td>0.92</td>\n",
              "    </tr>\n",
              "    <tr>\n",
              "      <th>9</th>\n",
              "      <td>1</td>\n",
              "      <td>apple</td>\n",
              "      <td>braeburn</td>\n",
              "      <td>172</td>\n",
              "      <td>7.4</td>\n",
              "      <td>7.0</td>\n",
              "      <td>0.89</td>\n",
              "    </tr>\n",
              "  </tbody>\n",
              "</table>\n",
              "</div>\n",
              "    <div class=\"colab-df-buttons\">\n",
              "\n",
              "  <div class=\"colab-df-container\">\n",
              "    <button class=\"colab-df-convert\" onclick=\"convertToInteractive('df-07d1a902-0c95-475d-b8f0-d05a0e5c303f')\"\n",
              "            title=\"Convert this dataframe to an interactive table.\"\n",
              "            style=\"display:none;\">\n",
              "\n",
              "  <svg xmlns=\"http://www.w3.org/2000/svg\" height=\"24px\" viewBox=\"0 -960 960 960\">\n",
              "    <path d=\"M120-120v-720h720v720H120Zm60-500h600v-160H180v160Zm220 220h160v-160H400v160Zm0 220h160v-160H400v160ZM180-400h160v-160H180v160Zm440 0h160v-160H620v160ZM180-180h160v-160H180v160Zm440 0h160v-160H620v160Z\"/>\n",
              "  </svg>\n",
              "    </button>\n",
              "\n",
              "  <style>\n",
              "    .colab-df-container {\n",
              "      display:flex;\n",
              "      gap: 12px;\n",
              "    }\n",
              "\n",
              "    .colab-df-convert {\n",
              "      background-color: #E8F0FE;\n",
              "      border: none;\n",
              "      border-radius: 50%;\n",
              "      cursor: pointer;\n",
              "      display: none;\n",
              "      fill: #1967D2;\n",
              "      height: 32px;\n",
              "      padding: 0 0 0 0;\n",
              "      width: 32px;\n",
              "    }\n",
              "\n",
              "    .colab-df-convert:hover {\n",
              "      background-color: #E2EBFA;\n",
              "      box-shadow: 0px 1px 2px rgba(60, 64, 67, 0.3), 0px 1px 3px 1px rgba(60, 64, 67, 0.15);\n",
              "      fill: #174EA6;\n",
              "    }\n",
              "\n",
              "    .colab-df-buttons div {\n",
              "      margin-bottom: 4px;\n",
              "    }\n",
              "\n",
              "    [theme=dark] .colab-df-convert {\n",
              "      background-color: #3B4455;\n",
              "      fill: #D2E3FC;\n",
              "    }\n",
              "\n",
              "    [theme=dark] .colab-df-convert:hover {\n",
              "      background-color: #434B5C;\n",
              "      box-shadow: 0px 1px 3px 1px rgba(0, 0, 0, 0.15);\n",
              "      filter: drop-shadow(0px 1px 2px rgba(0, 0, 0, 0.3));\n",
              "      fill: #FFFFFF;\n",
              "    }\n",
              "  </style>\n",
              "\n",
              "    <script>\n",
              "      const buttonEl =\n",
              "        document.querySelector('#df-07d1a902-0c95-475d-b8f0-d05a0e5c303f button.colab-df-convert');\n",
              "      buttonEl.style.display =\n",
              "        google.colab.kernel.accessAllowed ? 'block' : 'none';\n",
              "\n",
              "      async function convertToInteractive(key) {\n",
              "        const element = document.querySelector('#df-07d1a902-0c95-475d-b8f0-d05a0e5c303f');\n",
              "        const dataTable =\n",
              "          await google.colab.kernel.invokeFunction('convertToInteractive',\n",
              "                                                    [key], {});\n",
              "        if (!dataTable) return;\n",
              "\n",
              "        const docLinkHtml = 'Like what you see? Visit the ' +\n",
              "          '<a target=\"_blank\" href=https://colab.research.google.com/notebooks/data_table.ipynb>data table notebook</a>'\n",
              "          + ' to learn more about interactive tables.';\n",
              "        element.innerHTML = '';\n",
              "        dataTable['output_type'] = 'display_data';\n",
              "        await google.colab.output.renderOutput(dataTable, element);\n",
              "        const docLink = document.createElement('div');\n",
              "        docLink.innerHTML = docLinkHtml;\n",
              "        element.appendChild(docLink);\n",
              "      }\n",
              "    </script>\n",
              "  </div>\n",
              "\n",
              "\n",
              "<div id=\"df-dc745a5e-7705-4e20-92b4-ff1667dbf236\">\n",
              "  <button class=\"colab-df-quickchart\" onclick=\"quickchart('df-dc745a5e-7705-4e20-92b4-ff1667dbf236')\"\n",
              "            title=\"Suggest charts.\"\n",
              "            style=\"display:none;\">\n",
              "\n",
              "<svg xmlns=\"http://www.w3.org/2000/svg\" height=\"24px\"viewBox=\"0 0 24 24\"\n",
              "     width=\"24px\">\n",
              "    <g>\n",
              "        <path d=\"M19 3H5c-1.1 0-2 .9-2 2v14c0 1.1.9 2 2 2h14c1.1 0 2-.9 2-2V5c0-1.1-.9-2-2-2zM9 17H7v-7h2v7zm4 0h-2V7h2v10zm4 0h-2v-4h2v4z\"/>\n",
              "    </g>\n",
              "</svg>\n",
              "  </button>\n",
              "\n",
              "<style>\n",
              "  .colab-df-quickchart {\n",
              "      --bg-color: #E8F0FE;\n",
              "      --fill-color: #1967D2;\n",
              "      --hover-bg-color: #E2EBFA;\n",
              "      --hover-fill-color: #174EA6;\n",
              "      --disabled-fill-color: #AAA;\n",
              "      --disabled-bg-color: #DDD;\n",
              "  }\n",
              "\n",
              "  [theme=dark] .colab-df-quickchart {\n",
              "      --bg-color: #3B4455;\n",
              "      --fill-color: #D2E3FC;\n",
              "      --hover-bg-color: #434B5C;\n",
              "      --hover-fill-color: #FFFFFF;\n",
              "      --disabled-bg-color: #3B4455;\n",
              "      --disabled-fill-color: #666;\n",
              "  }\n",
              "\n",
              "  .colab-df-quickchart {\n",
              "    background-color: var(--bg-color);\n",
              "    border: none;\n",
              "    border-radius: 50%;\n",
              "    cursor: pointer;\n",
              "    display: none;\n",
              "    fill: var(--fill-color);\n",
              "    height: 32px;\n",
              "    padding: 0;\n",
              "    width: 32px;\n",
              "  }\n",
              "\n",
              "  .colab-df-quickchart:hover {\n",
              "    background-color: var(--hover-bg-color);\n",
              "    box-shadow: 0 1px 2px rgba(60, 64, 67, 0.3), 0 1px 3px 1px rgba(60, 64, 67, 0.15);\n",
              "    fill: var(--button-hover-fill-color);\n",
              "  }\n",
              "\n",
              "  .colab-df-quickchart-complete:disabled,\n",
              "  .colab-df-quickchart-complete:disabled:hover {\n",
              "    background-color: var(--disabled-bg-color);\n",
              "    fill: var(--disabled-fill-color);\n",
              "    box-shadow: none;\n",
              "  }\n",
              "\n",
              "  .colab-df-spinner {\n",
              "    border: 2px solid var(--fill-color);\n",
              "    border-color: transparent;\n",
              "    border-bottom-color: var(--fill-color);\n",
              "    animation:\n",
              "      spin 1s steps(1) infinite;\n",
              "  }\n",
              "\n",
              "  @keyframes spin {\n",
              "    0% {\n",
              "      border-color: transparent;\n",
              "      border-bottom-color: var(--fill-color);\n",
              "      border-left-color: var(--fill-color);\n",
              "    }\n",
              "    20% {\n",
              "      border-color: transparent;\n",
              "      border-left-color: var(--fill-color);\n",
              "      border-top-color: var(--fill-color);\n",
              "    }\n",
              "    30% {\n",
              "      border-color: transparent;\n",
              "      border-left-color: var(--fill-color);\n",
              "      border-top-color: var(--fill-color);\n",
              "      border-right-color: var(--fill-color);\n",
              "    }\n",
              "    40% {\n",
              "      border-color: transparent;\n",
              "      border-right-color: var(--fill-color);\n",
              "      border-top-color: var(--fill-color);\n",
              "    }\n",
              "    60% {\n",
              "      border-color: transparent;\n",
              "      border-right-color: var(--fill-color);\n",
              "    }\n",
              "    80% {\n",
              "      border-color: transparent;\n",
              "      border-right-color: var(--fill-color);\n",
              "      border-bottom-color: var(--fill-color);\n",
              "    }\n",
              "    90% {\n",
              "      border-color: transparent;\n",
              "      border-bottom-color: var(--fill-color);\n",
              "    }\n",
              "  }\n",
              "</style>\n",
              "\n",
              "  <script>\n",
              "    async function quickchart(key) {\n",
              "      const quickchartButtonEl =\n",
              "        document.querySelector('#' + key + ' button');\n",
              "      quickchartButtonEl.disabled = true;  // To prevent multiple clicks.\n",
              "      quickchartButtonEl.classList.add('colab-df-spinner');\n",
              "      try {\n",
              "        const charts = await google.colab.kernel.invokeFunction(\n",
              "            'suggestCharts', [key], {});\n",
              "      } catch (error) {\n",
              "        console.error('Error during call to suggestCharts:', error);\n",
              "      }\n",
              "      quickchartButtonEl.classList.remove('colab-df-spinner');\n",
              "      quickchartButtonEl.classList.add('colab-df-quickchart-complete');\n",
              "    }\n",
              "    (() => {\n",
              "      let quickchartButtonEl =\n",
              "        document.querySelector('#df-dc745a5e-7705-4e20-92b4-ff1667dbf236 button');\n",
              "      quickchartButtonEl.style.display =\n",
              "        google.colab.kernel.accessAllowed ? 'block' : 'none';\n",
              "    })();\n",
              "  </script>\n",
              "</div>\n",
              "    </div>\n",
              "  </div>\n"
            ]
          },
          "metadata": {},
          "execution_count": 2
        }
      ]
    },
    {
      "cell_type": "markdown",
      "source": [
        "creating dictionary for fruit types and count each type"
      ],
      "metadata": {
        "id": "36aNpcDsTaxI"
      }
    },
    {
      "cell_type": "code",
      "source": [
        "fruit_dic = {}\n",
        "for i in range(len(df)):\n",
        "  if df[['fruit_name']].iloc[i].fruit_name in fruit_dic:\n",
        "    fruit_dic[df['fruit_name'].iloc[i]].add(df[['fruit_subtype']].iloc[i].fruit_subtype)\n",
        "  else:\n",
        "    fruit_dic[df['fruit_name'].iloc[i]] = {df[['fruit_subtype']].iloc[i].fruit_subtype}\n",
        "print(fruit_dic)\n",
        "print(df[['fruit_name','fruit_subtype']].value_counts())"
      ],
      "metadata": {
        "colab": {
          "base_uri": "https://localhost:8080/"
        },
        "id": "Neih4HyYJ3lt",
        "outputId": "c8c7dcd9-1ee4-498d-8735-f0f82709b4f2"
      },
      "execution_count": null,
      "outputs": [
        {
          "output_type": "stream",
          "name": "stdout",
          "text": [
            "{'apple': {'cripps_pink', 'golden_delicious', 'braeburn', 'granny_smith'}, 'mandarin': {'mandarin'}, 'orange': {'spanish_jumbo', 'selected_seconds', 'turkey_navel'}, 'lemon': {'spanish_belsan', 'unknown'}}\n",
            "fruit_name  fruit_subtype   \n",
            "lemon       unknown             10\n",
            "orange      turkey_navel        10\n",
            "apple       cripps_pink          6\n",
            "lemon       spanish_belsan       6\n",
            "orange      selected_seconds     6\n",
            "apple       braeburn             5\n",
            "            golden_delicious     5\n",
            "mandarin    mandarin             5\n",
            "apple       granny_smith         3\n",
            "orange      spanish_jumbo        3\n",
            "dtype: int64\n"
          ]
        }
      ]
    },
    {
      "cell_type": "markdown",
      "source": [
        "plloting features distributoins"
      ],
      "metadata": {
        "id": "uJtkvlPgTqeW"
      }
    },
    {
      "cell_type": "code",
      "source": [
        "fig , ax = plt.subplots(2,2,figsize=(15,10))\n",
        "sns.histplot(df,ax = ax[0,0],x = 'mass', hue = 'fruit_name')\n",
        "sns.histplot(df,ax = ax[0,1],x = 'width', hue = 'fruit_name')\n",
        "sns.histplot(df,ax = ax[1,0],x = 'height', hue = 'fruit_name')\n",
        "sns.histplot(df,ax = ax[1,1],x = 'color_score', hue = 'fruit_name')\n",
        "plt.show()"
      ],
      "metadata": {
        "colab": {
          "base_uri": "https://localhost:8080/",
          "height": 772
        },
        "id": "NE4OMhnUAz9X",
        "outputId": "8ed69fa1-1aaa-42b9-cb0f-d60f8fb3bbe8"
      },
      "execution_count": null,
      "outputs": [
        {
          "output_type": "display_data",
          "data": {
            "text/plain": [
              "<Figure size 1500x1000 with 4 Axes>"
            ],
            "image/png": "[encoded data removed]"
          },
          "metadata": {}
        }
      ]
    },
    {
      "cell_type": "markdown",
      "source": [
        "# KNN"
      ],
      "metadata": {
        "id": "xaYfgAZnbbQ5"
      }
    },
    {
      "cell_type": "markdown",
      "source": [
        "## finding best k"
      ],
      "metadata": {
        "id": "nr5LmMLdUTdR"
      }
    },
    {
      "cell_type": "code",
      "source": [
        "from sklearn.model_selection import train_test_split\n",
        "from sklearn.neighbors import KNeighborsClassifier\n",
        "from sklearn import metrics\n",
        "from sklearn.preprocessing import StandardScaler"
      ],
      "metadata": {
        "id": "MAwPSJvObeTi"
      },
      "execution_count": null,
      "outputs": []
    },
    {
      "cell_type": "markdown",
      "source": [
        "all features"
      ],
      "metadata": {
        "id": "8RSUvvlDlSN0"
      }
    },
    {
      "cell_type": "code",
      "source": [
        "y = df[['fruit_label']]\n",
        "x = df[['mass','width','height','color_score']]\n",
        "x_train, x_test, y_train , y_test = train_test_split(x , y,test_size = 0.4)"
      ],
      "metadata": {
        "id": "LPHX9X3_djkN"
      },
      "execution_count": null,
      "outputs": []
    },
    {
      "cell_type": "markdown",
      "source": [
        "explore best k for nearest neighbors.limits of nieghbors consider between 20 and 30"
      ],
      "metadata": {
        "id": "t4oXTV0zT6Jt"
      }
    },
    {
      "cell_type": "code",
      "source": [
        "x_train2 = StandardScaler().fit_transform(x_train)\n",
        "x_test2 = StandardScaler().fit_transform(x_test)\n",
        "knn = KNeighborsClassifier()\n",
        "knn_dic = {}\n",
        "for i in range(20,31):\n",
        "  knn = KNeighborsClassifier(i)\n",
        "  knn_dic[f'{i} near neghbors'] = knn.fit(x_train2,np.array(y_train).reshape(-1))\n"
      ],
      "metadata": {
        "id": "VsoZYdEVFKdl"
      },
      "execution_count": null,
      "outputs": []
    },
    {
      "cell_type": "code",
      "source": [
        "f1_train = {}\n",
        "for i in range(20,31):\n",
        "  y_hat = knn_dic[list(knn_dic.keys())[i-20]].predict(x_train2)\n",
        "  f1_train[i] = metrics.f1_score(y_train,y_hat,average = 'macro')\n",
        "print('for train set f1 scores for k neareset neighbor is:')\n",
        "display(f1_train)\n"
      ],
      "metadata": {
        "colab": {
          "base_uri": "https://localhost:8080/",
          "height": 225
        },
        "id": "8N9kGwKulZN5",
        "outputId": "f9501e69-5439-4395-c78b-371c767d7db3"
      },
      "execution_count": null,
      "outputs": [
        {
          "output_type": "stream",
          "name": "stdout",
          "text": [
            "for train set f1 scores for k neareset neighbor is:\n"
          ]
        },
        {
          "output_type": "display_data",
          "data": {
            "text/plain": [
              "{20: 0.4134316770186335,\n",
              " 21: 0.44972471747319614,\n",
              " 22: 0.44972471747319614,\n",
              " 23: 0.4991039426523297,\n",
              " 24: 0.4368421052631579,\n",
              " 25: 0.34090909090909094,\n",
              " 26: 0.34090909090909094,\n",
              " 27: 0.32954545454545453,\n",
              " 28: 0.2552845528455285,\n",
              " 29: 0.22619047619047616,\n",
              " 30: 0.1276595744680851}"
            ]
          },
          "metadata": {}
        }
      ]
    },
    {
      "cell_type": "code",
      "source": [
        "f1_test = {}\n",
        "for i in range(20,31):\n",
        "  y_hat = knn_dic[list(knn_dic.keys())[i-20]].predict(x_test2)\n",
        "  f1_test[i] = metrics.f1_score(y_test,y_hat,average = 'macro')\n",
        "print('for test set f1 scores for k neareset neighbor is:')\n",
        "display(f1_test)"
      ],
      "metadata": {
        "colab": {
          "base_uri": "https://localhost:8080/",
          "height": 225
        },
        "id": "qR46yP0-TiAW",
        "outputId": "3afd667a-6807-4133-eb75-4fd21f9b8084"
      },
      "execution_count": null,
      "outputs": [
        {
          "output_type": "stream",
          "name": "stdout",
          "text": [
            "for test set f1 scores for k neareset neighbor is:\n"
          ]
        },
        {
          "output_type": "display_data",
          "data": {
            "text/plain": [
              "{20: 0.425,\n",
              " 21: 0.3827985739750446,\n",
              " 22: 0.38026315789473686,\n",
              " 23: 0.34692982456140353,\n",
              " 24: 0.3035714285714286,\n",
              " 25: 0.28273809523809523,\n",
              " 26: 0.32298136645962733,\n",
              " 27: 0.2589285714285714,\n",
              " 28: 0.26111111111111107,\n",
              " 29: 0.21825396825396826,\n",
              " 30: 0.11290322580645161}"
            ]
          },
          "metadata": {}
        }
      ]
    },
    {
      "cell_type": "markdown",
      "source": [
        "**highest score for train is 23 near point**"
      ],
      "metadata": {
        "id": "ScXtytvLUcP4"
      }
    },
    {
      "cell_type": "markdown",
      "source": [
        "## finding best 3 combination of features"
      ],
      "metadata": {
        "id": "S_QLGNpnUZVv"
      }
    },
    {
      "cell_type": "code",
      "source": [
        "from itertools import combinations\n",
        "knn_dic3 = {}\n",
        "for i in combinations(x_train.columns,3):\n",
        "  x_train3 = x_train[list(i)]\n",
        "  x_train3 = StandardScaler().fit_transform(x_train3)\n",
        "  knn_model = KNeighborsClassifier(23)\n",
        "  knn_dic3[i] = knn_model.fit(x_train3,np.array(y_train).reshape(-1))\n",
        "knn_dic3"
      ],
      "metadata": {
        "id": "YNu2RZlq6nrG"
      },
      "execution_count": null,
      "outputs": []
    },
    {
      "cell_type": "markdown",
      "source": [
        "**predict**"
      ],
      "metadata": {
        "id": "6zeL-J3tXRm8"
      }
    },
    {
      "cell_type": "code",
      "source": [
        "f1_score3 = {}\n",
        "for i in knn_dic3.keys():\n",
        "  x_test3 = StandardScaler().fit_transform(x_test[list(i)])\n",
        "  y_hat = knn_dic3[i].predict(x_test3)\n",
        "  f1_score3[i] = metrics.f1_score(y_test,y_hat,average = 'macro')\n",
        "\n",
        "f1_score3"
      ],
      "metadata": {
        "colab": {
          "base_uri": "https://localhost:8080/"
        },
        "id": "32w32QccWaOk",
        "outputId": "c46bee2f-6dd6-4652-8b89-ad86ae7b3102"
      },
      "execution_count": null,
      "outputs": [
        {
          "output_type": "execute_result",
          "data": {
            "text/plain": [
              "{('mass', 'width', 'height'): 0.11666666666666667,\n",
              " ('mass', 'width', 'color_score'): 0.3660714285714286,\n",
              " ('mass', 'height', 'color_score'): 0.36495726495726494,\n",
              " ('width', 'height', 'color_score'): 0.3495813397129186}"
            ]
          },
          "metadata": {},
          "execution_count": 19
        }
      ]
    },
    {
      "cell_type": "markdown",
      "source": [
        "as it has been shown the best combination is (mass , width , color score) for predict the label of fruit"
      ],
      "metadata": {
        "id": "eGwtnB8tU5RR"
      }
    },
    {
      "cell_type": "markdown",
      "source": [
        "## finding best single feature"
      ],
      "metadata": {
        "id": "FBxByXFOVHm1"
      }
    },
    {
      "cell_type": "code",
      "source": [
        "from itertools import combinations\n",
        "knn_dic1 = {}\n",
        "for i in combinations(x_train.columns,1):\n",
        "  x_train1 = x_train[list(i)]\n",
        "  x_train1 = StandardScaler().fit_transform(x_train1)\n",
        "  knn_model = KNeighborsClassifier(23)\n",
        "  knn_dic1[i] = knn_model.fit(x_train1,np.array(y_train).reshape(-1))\n",
        "knn_dic1"
      ],
      "metadata": {
        "id": "jCXaJOb2L87p",
        "colab": {
          "base_uri": "https://localhost:8080/"
        },
        "outputId": "c73195d4-035b-41e1-b271-f620bbbafdb6"
      },
      "execution_count": null,
      "outputs": [
        {
          "output_type": "execute_result",
          "data": {
            "text/plain": [
              "{('mass',): KNeighborsClassifier(n_neighbors=23),\n",
              " ('width',): KNeighborsClassifier(n_neighbors=23),\n",
              " ('height',): KNeighborsClassifier(n_neighbors=23),\n",
              " ('color_score',): KNeighborsClassifier(n_neighbors=23)}"
            ]
          },
          "metadata": {},
          "execution_count": 20
        }
      ]
    },
    {
      "cell_type": "code",
      "source": [
        "f1_score1 = {}\n",
        "for i in knn_dic1.keys():\n",
        "  x_test1 = StandardScaler().fit_transform(x_test[list(i)])\n",
        "  y_hat = knn_dic1[i].predict(x_test1)\n",
        "  f1_score1[i] = metrics.f1_score(y_test,y_hat,average = 'macro')\n",
        "\n",
        "f1_score1"
      ],
      "metadata": {
        "colab": {
          "base_uri": "https://localhost:8080/"
        },
        "id": "wKECOuctmSLO",
        "outputId": "fafc32c5-2d3a-4535-ae7a-bb44e1654234"
      },
      "execution_count": null,
      "outputs": [
        {
          "output_type": "execute_result",
          "data": {
            "text/plain": [
              "{('mass',): 0.1346153846153846,\n",
              " ('width',): 0.14,\n",
              " ('height',): 0.22962962962962963,\n",
              " ('color_score',): 0.47916666666666663}"
            ]
          },
          "metadata": {},
          "execution_count": 21
        }
      ]
    },
    {
      "cell_type": "markdown",
      "source": [
        "as  it has been shown the best single feature is color score"
      ],
      "metadata": {
        "id": "pvcI5WlYVPCs"
      }
    },
    {
      "cell_type": "code",
      "source": [],
      "metadata": {
        "id": "GGdFaPbNweRA"
      },
      "execution_count": null,
      "outputs": []
    }
  ]
}